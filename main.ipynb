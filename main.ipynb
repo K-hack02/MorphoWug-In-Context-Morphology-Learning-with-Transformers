{
  "nbformat": 4,
  "nbformat_minor": 0,
  "metadata": {
    "colab": {
      "provenance": [],
      "gpuType": "L4"
    },
    "kernelspec": {
      "name": "python3",
      "display_name": "Python 3 (ipykernel)",
      "language": "python"
    },
    "language_info": {
      "name": "python"
    },
    "accelerator": "GPU"
  },
  "cells": [
    {
      "cell_type": "code",
      "source": [
        "import torch\n",
        "import torch.nn as nn\n",
        "from torch.nn import functional as F\n",
        "import numpy as np\n",
        "import matplotlib.pyplot as plt"
      ],
      "metadata": {
        "id": "2XFSmd74WHbE"
      },
      "execution_count": 1,
      "outputs": []
    },
    {
      "cell_type": "code",
      "source": [
        "# hyperparameters\n",
        "batch_size = 64 # how many independent sequences will we process in parallel?\n",
        "block_size = 128 # what is the maximum context length for predictions?\n",
        "max_iters = 5000\n",
        "eval_interval = 500\n",
        "learning_rate = 3e-4\n",
        "device = 'cuda' if torch.cuda.is_available() else 'cpu'\n",
        "eval_iters = 200\n",
        "n_embd = 384\n",
        "n_head = 6\n",
        "n_layer = 6\n",
        "dropout = 0.0\n",
        "torch.manual_seed(1337)"
      ],
      "metadata": {
        "colab": {
          "base_uri": "https://localhost:8080/"
        },
        "id": "cwA39ZOpWI_j",
        "outputId": "26b83546-0ac5-49c2-e60e-fed66afd6b58"
      },
      "execution_count": 2,
      "outputs": [
        {
          "output_type": "execute_result",
          "data": {
            "text/plain": [
              "<torch._C.Generator at 0x79b5b8482870>"
            ]
          },
          "metadata": {},
          "execution_count": 2
        }
      ]
    },
    {
      "cell_type": "code",
      "source": [
        "stoi = {\n",
        "    ' ': 30,\n",
        "    'a': 1,\n",
        "    'b': 2,\n",
        "    'c': 3,\n",
        "    'd': 4,\n",
        "    'e': 5,\n",
        "    'f': 6,\n",
        "    'g': 7,\n",
        "    'h': 8,\n",
        "    'i': 9,\n",
        "    'j': 10,\n",
        "    'k': 11,\n",
        "    'l': 12,\n",
        "    'm': 13,\n",
        "    'n': 14,\n",
        "    'o': 15,\n",
        "    'p': 16,\n",
        "    'q': 17,\n",
        "    'r': 18,\n",
        "    's': 19,\n",
        "    't': 20,\n",
        "    'u': 21,\n",
        "    'v': 22,\n",
        "    'w': 23,\n",
        "    'x': 24,\n",
        "    'y': 25,\n",
        "    'z': 26,\n",
        "    '#': 27,\n",
        "    '$': 28,\n",
        "    '@': 29,\n",
        "    '%': 0\n",
        "}\n",
        "# '# = is to'\n",
        "# '$ = as'\n",
        "# '@ = end token'\n",
        "# '% = padding at the end to make it block size length'\n",
        "vocab_size = len(stoi)\n",
        "\n",
        "itos = {v: k for k, v in stoi.items()}\n",
        "\n",
        "# def tokenize(text):\n",
        "#     return [CHAR_TO_TOKEN[c] for c in text]\n",
        "\n",
        "# def detokenize(tokens):\n",
        "#     return ''.join([TOKEN_TO_CHAR[t] for t in tokens])\n",
        "\n",
        "encode = lambda s: [stoi[c] for c in s] # encoder: take a string, output a list of integers\n",
        "decode = lambda l: ''.join([itos[i] for i in l]) # decoder: take a list of integers, output a string\n"
      ],
      "metadata": {
        "id": "EPXqCA2TnkYQ"
      },
      "execution_count": 3,
      "outputs": []
    },
    {
      "cell_type": "code",
      "source": [
        "def load_word_pairs(csv_file, stoi):\n",
        "    word_pairs = []\n",
        "    with open(csv_file, 'r') as f:\n",
        "        for line in f:\n",
        "            parts = line.strip().split(',')\n",
        "            if len(parts) >= 2:\n",
        "                singular = parts[0].strip()\n",
        "                plural = parts[1].strip()\n",
        "\n",
        "                if all(c in stoi for c in singular) and all(c in stoi for c in plural) and len(singular) + len(plural) <= 20:\n",
        "                    word_pairs.append((singular, plural))\n",
        "    return word_pairs"
      ],
      "metadata": {
        "id": "NtzUk7hcWyPI"
      },
      "execution_count": 4,
      "outputs": []
    },
    {
      "cell_type": "code",
      "source": [
        "noun_pairs = load_word_pairs(\"nouns.csv\", stoi)\n",
        "print(noun_pairs[100])\n",
        "\n",
        "np.random.shuffle(noun_pairs)\n",
        "n = int(0.9 * len(noun_pairs)) # first 90% will be train, rest val\n",
        "train_data = noun_pairs[:n]\n",
        "val_data = noun_pairs[n:]\n",
        "\n",
        "test_data = load_word_pairs(\"verbs.csv\", stoi)\n",
        "print(\"train: \", len(train_data),\"| val: \", len(val_data), \"| test: \", len(test_data))"
      ],
      "metadata": {
        "id": "n6zCgneGgmFB",
        "colab": {
          "base_uri": "https://localhost:8080/"
        },
        "outputId": "1ebad9b6-e750-4a26-f040-4278c086a10f"
      },
      "execution_count": 5,
      "outputs": [
        {
          "output_type": "stream",
          "name": "stdout",
          "text": [
            "('abbr', 'abbrs')\n",
            "train:  60265 | val:  6697 | test:  175\n"
          ]
        }
      ]
    },
    {
      "cell_type": "code",
      "source": [
        "def get_context_examples(split):\n",
        "    '''\n",
        "    Data is of the form:\n",
        "    %%%% singular $ plural # singular $ part of a plural\n",
        "\n",
        "    We pad with %%% to keep the size correct\n",
        "\n",
        "    For example:\n",
        "    x = fox$foxes#dog$do%%%%%%%\n",
        "    y = ox$foxes#dog$dog%%%%%%%\n",
        "    '''\n",
        "\n",
        "    data = train_data if split == 'train' else val_data\n",
        "    n = len(data)\n",
        "    s1, p1 = data[np.random.randint(n)]\n",
        "    s2, p2 = data[np.random.randint(n)]\n",
        "    window = np.random.randint(len(p2)+1)\n",
        "    p2 += '@'\n",
        "    x = s1 + '#' + p1 + '$' + s2 + '#' + p2[:window]\n",
        "    y = s1[1:] + '#' + p1 + '$' + s2 + '#' + p2[:window + 1]\n",
        "    x = torch.tensor(encode(x))\n",
        "    y = torch.tensor(encode(y))\n",
        "    return x, y\n",
        "\n",
        "def get_batch(split):\n",
        "    data = train_data if split == 'train' else val_data\n",
        "    x = torch.zeros((batch_size, block_size), dtype=int)\n",
        "    y = torch.zeros((batch_size, block_size), dtype=int)\n",
        "    mask = torch.zeros((batch_size, block_size), dtype=torch.bool)\n",
        "\n",
        "\n",
        "    for i in range(batch_size):\n",
        "        xi, yi = get_context_examples(split)\n",
        "        x[i, :len(xi)] = xi  # Assign values up to the original length\n",
        "        y[i, :len(yi)] = yi  # The rest will be padded with 0s\n",
        "        mask[i, :len(xi)] = True  # Set True for actual data tokens\n",
        "\n",
        "    x, y, mask = x.to(device), y.to(device), mask.to(device)\n",
        "    return x, y, mask"
      ],
      "metadata": {
        "id": "yzqUl6bKkUri"
      },
      "execution_count": 6,
      "outputs": []
    },
    {
      "cell_type": "code",
      "source": [
        "example = get_context_examples('train')\n",
        "print(decode(example[0].tolist()))\n",
        "print(decode(example[1].tolist()))"
      ],
      "metadata": {
        "colab": {
          "base_uri": "https://localhost:8080/"
        },
        "id": "wYs68YRxV79H",
        "outputId": "6100e3c7-9587-4743-e03e-2bde0e936044"
      },
      "execution_count": 7,
      "outputs": [
        {
          "output_type": "stream",
          "name": "stdout",
          "text": [
            "torchon#torchons$galagid#ga\n",
            "orchon#torchons$galagid#gal\n"
          ]
        }
      ]
    },
    {
      "cell_type": "code",
      "source": [
        "@torch.no_grad()\n",
        "def estimate_loss():\n",
        "    out = {}\n",
        "    model.eval()\n",
        "    for split in ['train', 'val']:\n",
        "        losses = torch.zeros(eval_iters)\n",
        "        for k in range(eval_iters):\n",
        "            X, Y, mask = get_batch(split)\n",
        "            logits, loss = model(X, Y, mask)\n",
        "            losses[k] = loss.item()\n",
        "        out[split] = losses.mean()\n",
        "    model.train()\n",
        "    return out\n",
        "\n",
        "class Head(nn.Module):\n",
        "    \"\"\" one head of self-attention \"\"\"\n",
        "\n",
        "    def __init__(self, head_size):\n",
        "        super().__init__()\n",
        "        self.key = nn.Linear(n_embd, head_size, bias=False)\n",
        "        self.query = nn.Linear(n_embd, head_size, bias=False)\n",
        "        self.value = nn.Linear(n_embd, head_size, bias=False)\n",
        "        self.register_buffer('tril', torch.tril(torch.ones(block_size, block_size)))\n",
        "\n",
        "        self.dropout = nn.Dropout(dropout)\n",
        "\n",
        "    def forward(self, x, mask=None):\n",
        "        # input of size (batch, time-step, channels)\n",
        "        # output of size (batch, time-step, head size)\n",
        "        B,T,C = x.shape\n",
        "        k = self.key(x)   # (B,T,hs)\n",
        "        q = self.query(x) # (B,T,hs)\n",
        "        # compute attention scores (\"affinities\")\n",
        "        wei = q @ k.transpose(-2,-1) * k.shape[-1]**-0.5 # (B, T, hs) @ (B, hs, T) -> (B, T, T)\n",
        "        wei = wei.masked_fill(self.tril[:T, :T] == 0, float('-inf')) # (B, T, T)\n",
        "        if mask is not None:\n",
        "            # Apply the mask before the softmax\n",
        "            wei = wei.masked_fill(~mask[:, None, :], float('-inf'))\n",
        "\n",
        "        wei = F.softmax(wei, dim=-1) # (B, T, T)\n",
        "        wei = self.dropout(wei)\n",
        "        # perform the weighted aggregation of the values\n",
        "        v = self.value(x) # (B,T,hs)\n",
        "        out = wei @ v # (B, T, T) @ (B, T, hs) -> (B, T, hs)\n",
        "        return out\n",
        "\n",
        "class MultiHeadAttention(nn.Module):\n",
        "    \"\"\" multiple heads of self-attention in parallel \"\"\"\n",
        "\n",
        "    def __init__(self, num_heads, head_size):\n",
        "        super().__init__()\n",
        "        self.heads = nn.ModuleList([Head(head_size) for _ in range(num_heads)])\n",
        "        self.proj = nn.Linear(head_size * num_heads, n_embd)\n",
        "        self.dropout = nn.Dropout(dropout)\n",
        "\n",
        "    def forward(self, x, mask=None):\n",
        "        #out = torch.cat([h(x) for h in self.heads], dim=-1)\n",
        "        out = torch.cat([h(x, mask=mask) for h in self.heads], dim=-1)  # Pass mask\n",
        "\n",
        "        out = self.dropout(self.proj(out))\n",
        "        return out\n",
        "\n",
        "class FeedFoward(nn.Module):\n",
        "    \"\"\" a simple linear layer followed by a non-linearity \"\"\"\n",
        "\n",
        "    def __init__(self, n_embd):\n",
        "        super().__init__()\n",
        "        self.net = nn.Sequential(\n",
        "            nn.Linear(n_embd, 4 * n_embd),\n",
        "            nn.ReLU(),\n",
        "            nn.Linear(4 * n_embd, n_embd),\n",
        "            nn.Dropout(dropout),\n",
        "        )\n",
        "\n",
        "    def forward(self, x):\n",
        "        return self.net(x)\n",
        "\n",
        "class Block(nn.Module):\n",
        "    \"\"\" Transformer block: communication followed by computation \"\"\"\n",
        "\n",
        "    def __init__(self, n_embd, n_head):\n",
        "        # n_embd: embedding dimension, n_head: the number of heads we'd like\n",
        "        super().__init__()\n",
        "        head_size = n_embd // n_head\n",
        "        self.sa = MultiHeadAttention(n_head, head_size)\n",
        "        self.ffwd = FeedFoward(n_embd)\n",
        "        self.ln1 = nn.LayerNorm(n_embd)\n",
        "        self.ln2 = nn.LayerNorm(n_embd)\n",
        "\n",
        "    def forward(self, x, mask=None):\n",
        "        x = x + self.sa(self.ln1(x), mask=mask)\n",
        "        x = x + self.ffwd(self.ln2(x))\n",
        "        return x\n",
        "\n",
        "class GPTLanguageModel(nn.Module):\n",
        "\n",
        "    def __init__(self):\n",
        "        super().__init__()\n",
        "        # each token directly reads off the logits for the next token from a lookup table\n",
        "        self.token_embedding_table = nn.Embedding(vocab_size, n_embd)\n",
        "        self.position_embedding_table = nn.Embedding(block_size, n_embd)\n",
        "        self.blocks = nn.Sequential(*[Block(n_embd, n_head=n_head) for _ in range(n_layer)])\n",
        "        self.ln_f = nn.LayerNorm(n_embd) # final layer norm\n",
        "        self.lm_head = nn.Linear(n_embd, vocab_size)\n",
        "\n",
        "        # better init, not covered in the original GPT video, but important, will cover in followup video\n",
        "        self.apply(self._init_weights)\n",
        "\n",
        "    def _init_weights(self, module):\n",
        "        if isinstance(module, nn.Linear):\n",
        "            torch.nn.init.normal_(module.weight, mean=0.0, std=0.02)\n",
        "            if module.bias is not None:\n",
        "                torch.nn.init.zeros_(module.bias)\n",
        "        elif isinstance(module, nn.Embedding):\n",
        "            torch.nn.init.normal_(module.weight, mean=0.0, std=0.02)\n",
        "\n",
        "    def forward(self, idx, targets=None, mask=None):\n",
        "        B, T = idx.shape\n",
        "\n",
        "        # idx and targets are both (B,T) tensor of integers\n",
        "        tok_emb = self.token_embedding_table(idx) # (B,T,C)\n",
        "        pos_emb = self.position_embedding_table(torch.arange(T, device=device)) # (T,C)\n",
        "        x = tok_emb + pos_emb # (B,T,C)\n",
        "        for block in self.blocks:\n",
        "          x = block(x, mask=mask)\n",
        "\n",
        "        x = self.ln_f(x) # (B,T,C)\n",
        "        logits = self.lm_head(x) # (B,T,vocab_size)\n",
        "\n",
        "        if targets is None:\n",
        "            loss = None\n",
        "        else:\n",
        "            B, T, C = logits.shape\n",
        "            logits = logits.view(B*T, C)\n",
        "            targets = targets.view(B*T)\n",
        "            loss = F.cross_entropy(logits, targets)\n",
        "\n",
        "        return logits, loss\n",
        "\n",
        "    @torch.no_grad()\n",
        "    def evaluate(self, data, num_to_evaluate):\n",
        "        self.eval()\n",
        "        n = len(data)\n",
        "\n",
        "        correct = 0\n",
        "        total = 0\n",
        "        for _ in range(num_to_evaluate):\n",
        "            s1, p1 = data[np.random.randint(n)]\n",
        "            s2, p2 = data[np.random.randint(n)]\n",
        "            p2 += '@'\n",
        "\n",
        "            idx = s1 + '#' + p1 + '$' + s2 + '#'\n",
        "            context = idx[:]\n",
        "            idx = torch.tensor(encode(idx)).to(device).unsqueeze(0)\n",
        "            for i in range(len(p2)):\n",
        "                # crop idx to the last block_size tokens\n",
        "                idx_cond = idx[:, -block_size:]\n",
        "                # get the predictions\n",
        "                logits, loss = self(idx_cond)\n",
        "                # focus only on the last time step\n",
        "                logits = logits[:, -1, :] # becomes (B, C)\n",
        "                # apply softmax to get probabilities\n",
        "                probs = F.softmax(logits, dim=-1) # (B, C)\n",
        "                # sample from the distribution\n",
        "                idx_next = logits.argmax(-1, keepdim=True) # (B, 1)\n",
        "                # append sampled index to the running sequence\n",
        "                idx = torch.cat((idx, idx_next), dim=1) # (B, T+1)\n",
        "\n",
        "                if idx_next.item() == stoi['@']:\n",
        "                  break\n",
        "\n",
        "            predicted = decode(idx[0].tolist())[-len(p2):]\n",
        "\n",
        "            print(f\"Context: {context}, Prediction: {predicted}, Correct: {p2}\")\n",
        "            if predicted == p2:\n",
        "                correct += 1\n",
        "            total += 1\n",
        "\n",
        "        self.train()\n",
        "        print(f\"Accuracy: {correct}/{total}\")"
      ],
      "metadata": {
        "id": "9OrQKulGWdBk"
      },
      "execution_count": 8,
      "outputs": []
    },
    {
      "cell_type": "code",
      "source": [
        "plt.rcParams[\"figure.figsize\"] = (7,4)\n",
        "\n",
        "def batch_accuracy(logits, targets):\n",
        "    # logits.argmax returns the index of the max‐prob token\n",
        "    preds = logits.argmax(-1)\n",
        "    preds_flat = preds.view(-1)\n",
        "    targets_flat = targets.view(-1)\n",
        "    return (preds_flat == targets_flat).float().mean().item()\n",
        "\n",
        "@torch.no_grad()\n",
        "def eval_split(split, model, eval_iters=50):\n",
        "    model.eval()\n",
        "    losses, accs, per_sample = [], [], []\n",
        "    for _ in range(eval_iters):\n",
        "        xb, yb, mask = get_batch(split)\n",
        "        logits, loss = model(xb, yb, mask)\n",
        "        losses.append(loss.item())\n",
        "        accs.append(batch_accuracy(logits, yb))\n",
        "        per_sample.extend(loss.detach().cpu().flatten().tolist())\n",
        "    model.train()\n",
        "    return np.mean(losses), np.mean(accs), per_sample"
      ],
      "metadata": {
        "id": "x_GcBsaZa4OP"
      },
      "execution_count": 9,
      "outputs": []
    },
    {
      "cell_type": "code",
      "source": [
        "model = GPTLanguageModel().to(device)\n",
        "# print the number of parameters in the model\n",
        "print(sum(p.numel() for p in model.parameters())/1e6, 'M parameters')\n",
        "\n",
        "# create a PyTorch optimizer\n",
        "optimizer = torch.optim.AdamW(model.parameters(), lr=learning_rate)\n",
        "\n",
        "steps, tr_loss, va_loss = [], [], []\n",
        "tr_acc , va_acc  = [], []\n",
        "\n",
        "for iter in range(max_iters):\n",
        "\n",
        "    # every once in a while evaluate the loss on train and val sets\n",
        "    if iter % eval_interval == 0 or iter == max_iters - 1:\n",
        "        tl, ta, _ = eval_split('train', model)\n",
        "        vl, va, _ = eval_split('val',   model)\n",
        "\n",
        "        steps.append(iter)\n",
        "        tr_loss.append(tl); va_loss.append(vl)\n",
        "        tr_acc.append(ta);  va_acc.append(va)\n",
        "\n",
        "        print(f\"step {iter:5d} | train loss {tl:.4f} acc {ta:.3f} | val loss {vl:.4f} acc {va:.3f}\")\n",
        "\n",
        "\n",
        "    # sample a batch of data\n",
        "    xb, yb, mask = get_batch('train')\n",
        "\n",
        "    # evaluate the loss\n",
        "    logits, loss = model(xb, yb, mask)\n",
        "    optimizer.zero_grad(set_to_none=True)\n",
        "    loss.backward()\n",
        "    optimizer.step()\n",
        "\n",
        "# generate from the model\n",
        "print(model.evaluate(val_data, 100))"
      ],
      "metadata": {
        "colab": {
          "base_uri": "https://localhost:8080/"
        },
        "collapsed": true,
        "id": "l7nrOz6GWiZL",
        "outputId": "ce296915-0881-44dd-8547-8e23e4d55575"
      },
      "execution_count": 10,
      "outputs": [
        {
          "output_type": "stream",
          "name": "stdout",
          "text": [
            "10.713631 M parameters\n",
            "step     0 | train loss 3.6263 acc 0.004 | val loss 3.6294 acc 0.004\n",
            "step   500 | train loss 0.2826 acc 0.912 | val loss 0.2839 acc 0.911\n",
            "step  1000 | train loss 0.2645 acc 0.916 | val loss 0.2652 acc 0.916\n",
            "step  1500 | train loss 0.2540 acc 0.919 | val loss 0.2595 acc 0.918\n",
            "step  2000 | train loss 0.2476 acc 0.921 | val loss 0.2552 acc 0.919\n",
            "step  2500 | train loss 0.2411 acc 0.922 | val loss 0.2516 acc 0.920\n",
            "step  3000 | train loss 0.2387 acc 0.923 | val loss 0.2476 acc 0.921\n",
            "step  3500 | train loss 0.2337 acc 0.925 | val loss 0.2468 acc 0.922\n",
            "step  4000 | train loss 0.2322 acc 0.925 | val loss 0.2477 acc 0.921\n",
            "step  4500 | train loss 0.2253 acc 0.927 | val loss 0.2452 acc 0.922\n",
            "step  4999 | train loss 0.2222 acc 0.928 | val loss 0.2470 acc 0.922\n",
            "Context: lim inf#lim infs$clodpole#, Prediction: clodpoles@, Correct: clodpoles@\n",
            "Context: bothid#bothids$trone#, Prediction: trones@, Correct: trones@\n",
            "Context: eggnog#eggnogs$eejit#, Prediction: eejits@, Correct: eejits@\n",
            "Context: ahu#ahus$doudouk#, Prediction: doudouks@, Correct: doudouks@\n",
            "Context: trichina#trichinas$frog#, Prediction: frogs@, Correct: frogs@\n",
            "Context: hexacode#hexacodes$watchmate#, Prediction: watchmates@, Correct: watchmates@\n",
            "Context: ghayn#ghayns$nonmember#, Prediction: nonmembers@, Correct: nonmembers@\n",
            "Context: opuntia#opuntias$plan#, Prediction: plans@, Correct: plans@\n",
            "Context: quica#quicas$nan#, Prediction: nans@, Correct: nans@\n",
            "Context: phaennid#phaennids$bullwhip#, Prediction: bullwhips@, Correct: bullwhips@\n",
            "Context: force#forces$plighter#, Prediction: plighters@, Correct: plighters@\n",
            "Context: rubus#rubuses$piemaker#, Prediction: piemakers@, Correct: piemakers@\n",
            "Context: gigagram#gigagrams$bene#, Prediction: benes@, Correct: benes@\n",
            "Context: eloper#elopers$redia#, Prediction: redias@, Correct: rediae@\n",
            "Context: yumberry#yumberries$ileum#, Prediction: ileum, Correct: ilea@\n",
            "Context: marge#marges$beanie#, Prediction: beanies@, Correct: beanies@\n",
            "Context: mousefish#mousefishes$plan#, Prediction: plans@, Correct: plans@\n",
            "Context: cardcase#cardcases$argonaut#, Prediction: argonauts@, Correct: argonauts@\n",
            "Context: filly#fillies$galeaspid#, Prediction: galeaspids@, Correct: galeaspids@\n",
            "Context: bush frog#bush frogs$admiralcy#, Prediction: admiralcies@, Correct: admiralcies@\n",
            "Context: slow clap#slow claps$agent#, Prediction: agents@, Correct: agents@\n",
            "Context: roband#robands$finnock#, Prediction: finnocks@, Correct: finnocks@\n",
            "Context: sigillum#sigilla$functome#, Prediction: functomes@, Correct: functomes@\n",
            "Context: dodo#dodoes$hurkaru#, Prediction: hurkarus@, Correct: hurkarus@\n",
            "Context: pingler#pinglers$longclaw#, Prediction: longclaws@, Correct: longclaws@\n",
            "Context: brooch#brooches$minister#, Prediction: ministers@, Correct: ministers@\n",
            "Context: mareblob#mareblobs$peripatus#, Prediction: us#peripati@, Correct: peripatuses@\n",
            "Context: tift#tifts$gap year#, Prediction: gap years@, Correct: gap years@\n",
            "Context: shootist#shootists$goji#, Prediction: gojis, Correct: goji@\n",
            "Context: hanukkiah#hanukkiahs$picotiter#, Prediction: picotiters@, Correct: picotiters@\n",
            "Context: saxicava#saxicavas$greedhead#, Prediction: greedheads@, Correct: greedheads@\n",
            "Context: dame#dames$tilter#, Prediction: tilters@, Correct: tilters@\n",
            "Context: snakeline#snakelines$plasmator#, Prediction: plasmators@, Correct: plasmators@\n",
            "Context: suffragan#suffragans$bandsaw#, Prediction: bandsaws@, Correct: bandsaws@\n",
            "Context: finnock#finnocks$claypan#, Prediction: claypans@, Correct: claypans@\n",
            "Context: advisee#advisees$bar room#, Prediction: bar rooms@, Correct: bar rooms@\n",
            "Context: abysm#abysms$capture#, Prediction: captures@, Correct: captures@\n",
            "Context: trior#triors$telecall#, Prediction: telecalls@, Correct: telecalls@\n",
            "Context: cloak#cloaks$gifter#, Prediction: gifters@, Correct: gifters@\n",
            "Context: hogback#hogbacks$radius#, Prediction: radii@, Correct: radii@\n",
            "Context: nightbird#nightbirds$epicede#, Prediction: epicedes@, Correct: epicedes@\n",
            "Context: catenary#catenaries$whirring#, Prediction: whirrings@, Correct: whirrings@\n",
            "Context: retooler#retoolers$collegium#, Prediction: collegia@, Correct: collegia@\n",
            "Context: lifepath#lifepaths$bedfellow#, Prediction: bedfellows@, Correct: bedfellows@\n",
            "Context: beer tent#beer tents$turner#, Prediction: turners@, Correct: turners@\n",
            "Context: bookrack#bookracks$narkid#, Prediction: narkids@, Correct: narkids@\n",
            "Context: popster#popsters$maat#, Prediction: maats@, Correct: maats@\n",
            "Context: sublingua#sublinguae$repmobile#, Prediction: repmobiles@, Correct: repmobiles@\n",
            "Context: crampoon#crampoons$gryfon#, Prediction: gryfons@, Correct: gryfons@\n",
            "Context: plutocrat#plutocrats$maneuver#, Prediction: maneuvers@, Correct: maneuvers@\n",
            "Context: depraver#depravers$syrt#, Prediction: syrts@, Correct: syrts@\n",
            "Context: tidier#tidiers$perimorph#, Prediction: perimorphs@, Correct: perimorphs@\n",
            "Context: zecchin#zecchins$bigorexic#, Prediction: bigorexics@, Correct: bigorexics@\n",
            "Context: galangal#galangals$savagery#, Prediction: savageries@, Correct: savageries@\n",
            "Context: sitarist#sitarists$eyre#, Prediction: eyres@, Correct: eyres@\n",
            "Context: dag#dags$proseman#, Prediction: prosemen@, Correct: prosemen@\n",
            "Context: palaestra#palaestras$tollway#, Prediction: tollways@, Correct: tollways@\n",
            "Context: ribaldo#ribaldos$hyphema#, Prediction: hyphemas@, Correct: hyphemas@\n",
            "Context: lier#liers$arginyl#, Prediction: arginyls@, Correct: arginyls@\n",
            "Context: genetive#genetives$delft#, Prediction: delfts@, Correct: delfts@\n",
            "Context: bottle#bottles$spheric#, Prediction: spherics@, Correct: spherics@\n",
            "Context: dholaki#dholakis$phylarchy#, Prediction: phylarchies@, Correct: phylarchies@\n",
            "Context: milagro#milagros$mynheer#, Prediction: mynheers@, Correct: mynheers@\n",
            "Context: pterosaur#pterosaurs$galangal#, Prediction: galangals@, Correct: galangals@\n",
            "Context: tur#turs$sirree#, Prediction: sirrees@, Correct: sirrees@\n",
            "Context: abort#aborts$rambling#, Prediction: ramblings@, Correct: ramblings@\n",
            "Context: flimsy#flimsies$shorthair#, Prediction: shorthairs@, Correct: shorthairs@\n",
            "Context: lomcevak#lomcevaks$simoon#, Prediction: simoons@, Correct: simoons@\n",
            "Context: escrod#escrods$disperser#, Prediction: dispersers@, Correct: dispersers@\n",
            "Context: feat#feats$clomp#, Prediction: clomps@, Correct: clomps@\n",
            "Context: andisol#andisols$buckaroo#, Prediction: buckaroos@, Correct: buckaroos@\n",
            "Context: acrimony#acrimonies$tilde#, Prediction: tildes@, Correct: tildes@\n",
            "Context: flunkey#flunkeys$choreic#, Prediction: choreics@, Correct: choreics@\n",
            "Context: chucker#chuckers$musiczine#, Prediction: musiczines@, Correct: musiczines@\n",
            "Context: payload#payloads$pill mill#, Prediction: pill mills@, Correct: pill mills@\n",
            "Context: roulade#roulades$greeze#, Prediction: greezes@, Correct: greezes@\n",
            "Context: hepper#heppers$terzet#, Prediction: terzets@, Correct: terzets@\n",
            "Context: naked ape#naked apes$frill#, Prediction: frills@, Correct: frills@\n",
            "Context: edgrow#edgrows$jiggler#, Prediction: jigglers@, Correct: jigglers@\n",
            "Context: mile#miles$foosa#, Prediction: foosas@, Correct: foosas@\n",
            "Context: way to go#ways to go$olivenite#, Prediction: olivenites@, Correct: olivenites@\n",
            "Context: pinnule#pinnules$bombyx#, Prediction: bombyxes@, Correct: bombyxes@\n",
            "Context: frequency#frequencies$clionid#, Prediction: clionids@, Correct: clionids@\n",
            "Context: vicus#vici$abdicator#, Prediction: abdicators@, Correct: abdicators@\n",
            "Context: coccid#coccids$stratus#, Prediction: strati@, Correct: strati@\n",
            "Context: bakeshop#bakeshops$blaccent#, Prediction: blaccents@, Correct: blaccents@\n",
            "Context: quadplex#quadplexes$faquir#, Prediction: faquirs@, Correct: faquirs@\n",
            "Context: iron fist#iron fists$probate#, Prediction: probates@, Correct: probates@\n",
            "Context: contig#contigs$animosity#, Prediction: animosities@, Correct: animosities@\n",
            "Context: icecap#icecaps$lipoate#, Prediction: lipoates@, Correct: lipoates@\n",
            "Context: section#sections$biro#, Prediction: biros@, Correct: biros@\n",
            "Context: septuplet#septuplets$centreman#, Prediction: centremen@, Correct: centremen@\n",
            "Context: haliotid#haliotids$speciest#, Prediction: speciests@, Correct: speciests@\n",
            "Context: kabouter#kabouters$mikoshi#, Prediction: #mikoshi@, Correct: mikoshis@\n",
            "Context: murtad#murtads$dit#, Prediction: dits@, Correct: dits@\n",
            "Context: billicock#billicocks$linefeed#, Prediction: linefeeds@, Correct: linefeeds@\n",
            "Context: hutong#hutongs$inventer#, Prediction: inventers@, Correct: inventers@\n",
            "Context: dog day#dog days$spelt#, Prediction: spelts@, Correct: spelts@\n",
            "Context: waxworker#waxworkers$doner#, Prediction: doners@, Correct: doners@\n",
            "Context: syce#syces$beinge#, Prediction: beinges@, Correct: beinges@\n",
            "Accuracy: 95/100\n",
            "None\n"
          ]
        }
      ]
    },
    {
      "cell_type": "code",
      "source": [
        "# Learning Curve\n",
        "plt.figure()\n",
        "plt.plot(steps, tr_loss, label=\"train\")\n",
        "plt.plot(steps, va_loss, label=\"validation\")\n",
        "plt.xlabel(\"iteration\")\n",
        "plt.ylabel(\"loss\")\n",
        "plt.title(\"Learning curve\")\n",
        "plt.legend()\n",
        "plt.show()\n",
        "\n",
        "# Accuracy Curve\n",
        "plt.figure()\n",
        "plt.plot(steps, tr_acc, label=\"train\")\n",
        "plt.plot(steps, va_acc, label=\"validation\")\n",
        "plt.xlabel(\"iteration\")\n",
        "plt.ylabel(\"accuracy\")\n",
        "plt.title(\"Accuracy curve\")\n",
        "plt.legend()\n",
        "plt.show()\n",
        "\n",
        "# Loss Histogram\n",
        "_, _, train_losses = eval_split('train', model, eval_iters=100)\n",
        "_, _,  val_losses  = eval_split('val',   model, eval_iters=100)\n",
        "\n",
        "plt.figure()\n",
        "bins = np.linspace(0, max(max(train_losses), max(val_losses)), 30)\n",
        "plt.hist(train_losses, bins=bins, alpha=0.6, label=\"train\")\n",
        "plt.hist(val_losses,  bins=bins, alpha=0.6, label=\"validation\")\n",
        "plt.xlabel(\"negative log-likelihood\")\n",
        "plt.ylabel(\"# samples\")\n",
        "plt.title(\"Per-sample loss distribution\")\n",
        "plt.legend()\n",
        "plt.show()"
      ],
      "metadata": {
        "colab": {
          "base_uri": "https://localhost:8080/",
          "height": 1000
        },
        "id": "BudbUxADa-_g",
        "outputId": "9b82f1ac-710c-4bac-8c27-60dd0c8e5417"
      },
      "execution_count": 11,
      "outputs": [
        {
          "output_type": "display_data",
          "data": {
            "text/plain": [
              "<Figure size 700x400 with 1 Axes>"
            ],
            "image/png": "[encoded data removed]"
          },
          "metadata": {}
        },
        {
          "output_type": "display_data",
          "data": {
            "text/plain": [
              "<Figure size 700x400 with 1 Axes>"
            ],
            "image/png": "[encoded data removed]"
          },
          "metadata": {}
        },
        {
          "output_type": "display_data",
          "data": {
            "text/plain": [
              "<Figure size 700x400 with 1 Axes>"
            ],
            "image/png": "[encoded data removed]"
          },
          "metadata": {}
        }
      ]
    },
    {
      "cell_type": "code",
      "source": [
        "torch.save(model.state_dict(), 'model_weights.pth')"
      ],
      "metadata": {
        "id": "AYtXR9SZc8P_"
      },
      "execution_count": 12,
      "outputs": []
    },
    {
      "cell_type": "code",
      "source": [
        "model = GPTLanguageModel().to(device)  # Create a new model with the same architecture\n",
        "model.load_state_dict(torch.load('model_weights.pth'))\n",
        "print(model.evaluate(val_data, 1))"
      ],
      "metadata": {
        "colab": {
          "base_uri": "https://localhost:8080/"
        },
        "id": "VTDz7C8VdJTJ",
        "outputId": "9d687050-080d-455d-9c07-e09e901d67a3"
      },
      "execution_count": 13,
      "outputs": [
        {
          "output_type": "stream",
          "name": "stdout",
          "text": [
            "Context: safe#safes$pawner#, Prediction: pawners@, Correct: pawners@\n",
            "Accuracy: 1/1\n",
            "None\n"
          ]
        }
      ]
    }
  ]
}