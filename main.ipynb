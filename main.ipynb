{
  "nbformat": 4,
  "nbformat_minor": 0,
  "metadata": {
    "colab": {
      "provenance": [],
      "gpuType": "L4"
    },
    "kernelspec": {
      "name": "python3",
      "display_name": "Python 3"
    },
    "language_info": {
      "name": "python"
    },
    "accelerator": "GPU"
  },
  "cells": [
    {
      "cell_type": "code",
      "source": [
        "import torch\n",
        "import torch.nn as nn\n",
        "from torch.nn import functional as F\n",
        "import numpy as np"
      ],
      "metadata": {
        "id": "2XFSmd74WHbE"
      },
      "execution_count": 158,
      "outputs": []
    },
    {
      "cell_type": "code",
      "source": [
        "# hyperparameters\n",
        "batch_size = 64 # how many independent sequences will we process in parallel?\n",
        "block_size = 128 # what is the maximum context length for predictions?\n",
        "max_iters = 5000\n",
        "eval_interval = 500\n",
        "learning_rate = 3e-4\n",
        "device = 'cuda' if torch.cuda.is_available() else 'cpu'\n",
        "eval_iters = 200\n",
        "n_embd = 384\n",
        "n_head = 6\n",
        "n_layer = 6\n",
        "dropout = 0.0\n",
        "torch.manual_seed(1337)"
      ],
      "metadata": {
        "colab": {
          "base_uri": "https://localhost:8080/"
        },
        "id": "cwA39ZOpWI_j",
        "outputId": "a6c59ec5-8c92-4b21-835f-a5913583eb1b"
      },
      "execution_count": 159,
      "outputs": [
        {
          "output_type": "execute_result",
          "data": {
            "text/plain": [
              "<torch._C.Generator at 0x7e4914636bb0>"
            ]
          },
          "metadata": {},
          "execution_count": 159
        }
      ]
    },
    {
      "cell_type": "code",
      "source": [
        "stoi = {\n",
        "    ' ': 30,\n",
        "    'a': 1,\n",
        "    'b': 2,\n",
        "    'c': 3,\n",
        "    'd': 4,\n",
        "    'e': 5,\n",
        "    'f': 6,\n",
        "    'g': 7,\n",
        "    'h': 8,\n",
        "    'i': 9,\n",
        "    'j': 10,\n",
        "    'k': 11,\n",
        "    'l': 12,\n",
        "    'm': 13,\n",
        "    'n': 14,\n",
        "    'o': 15,\n",
        "    'p': 16,\n",
        "    'q': 17,\n",
        "    'r': 18,\n",
        "    's': 19,\n",
        "    't': 20,\n",
        "    'u': 21,\n",
        "    'v': 22,\n",
        "    'w': 23,\n",
        "    'x': 24,\n",
        "    'y': 25,\n",
        "    'z': 26,\n",
        "    '#': 27,\n",
        "    '$': 28,\n",
        "    '@': 29,\n",
        "    '%': 0\n",
        "}\n",
        "# '# = is to'\n",
        "# '$ = as'\n",
        "# '@ = end token'\n",
        "# '% = padding at the start to make it block size length'\n",
        "vocab_size = len(stoi)\n",
        "\n",
        "itos = {v: k for k, v in stoi.items()}\n",
        "\n",
        "# def tokenize(text):\n",
        "#     return [CHAR_TO_TOKEN[c] for c in text]\n",
        "\n",
        "# def detokenize(tokens):\n",
        "#     return ''.join([TOKEN_TO_CHAR[t] for t in tokens])\n",
        "\n",
        "encode = lambda s: [stoi[c] for c in s] # encoder: take a string, output a list of integers\n",
        "decode = lambda l: ''.join([itos[i] for i in l]) # decoder: take a list of integers, output a string\n"
      ],
      "metadata": {
        "id": "EPXqCA2TnkYQ"
      },
      "execution_count": 160,
      "outputs": []
    },
    {
      "cell_type": "code",
      "source": [
        "word_pairs = []\n",
        "with open('nouns.csv', 'r') as f:\n",
        "    for line in f:\n",
        "        parts = line.strip().split(',')\n",
        "        if len(parts) >= 2:\n",
        "            singular = parts[0].strip()\n",
        "            plural = parts[1].strip()\n",
        "\n",
        "            if all(c in stoi for c in singular) and all(c in stoi for c in plural) and len(singular) + len(plural) <= 13:\n",
        "                word_pairs.append((singular, plural))\n",
        "\n",
        "print(word_pairs[100])"
      ],
      "metadata": {
        "colab": {
          "base_uri": "https://localhost:8080/"
        },
        "id": "NtzUk7hcWyPI",
        "outputId": "ff614680-bbc1-4c2b-9860-abc0639b9d7e"
      },
      "execution_count": 161,
      "outputs": [
        {
          "output_type": "stream",
          "name": "stdout",
          "text": [
            "('absurd', 'absurds')\n"
          ]
        }
      ]
    },
    {
      "cell_type": "code",
      "source": [
        "n = int(0.9*len(word_pairs)) # first 90% will be train, rest val\n",
        "train_data = word_pairs[:n]\n",
        "val_data = word_pairs[n:]"
      ],
      "metadata": {
        "id": "n6zCgneGgmFB"
      },
      "execution_count": 162,
      "outputs": []
    },
    {
      "cell_type": "code",
      "source": [
        "def get_context_examples(split):\n",
        "    '''\n",
        "    Data is of the form:\n",
        "    %%%% singular $ plural # singular $ part of a plural\n",
        "\n",
        "    We pad with %%% to keep the size correct\n",
        "\n",
        "    For example:\n",
        "    x = %%%%%%%fox$foxes#dog$do\n",
        "    y = %%%%%%fox$foxes#dog$dog\n",
        "    '''\n",
        "\n",
        "    data = train_data if split == 'train' else val_data\n",
        "    n = len(data)\n",
        "    s1, p1 = data[np.random.randint(n)]\n",
        "    s2, p2 = data[np.random.randint(n)]\n",
        "    window = np.random.randint(len(p2)+1)\n",
        "    p2 += '@'\n",
        "    x = s1 + '#' + p1 + '$' + s2 + '#' + p2[:window]\n",
        "    y = s1[1:] + '#' + p1 + '$' + s2 + '#' + p2[:window + 1]\n",
        "    # x = (s1 + '#' + p1 + '$' + s2 + '#' + p2[:window]).rjust(block_size, '%')\n",
        "    # y = (s1 + '#' + p1 + '$' + s2 + '#' + p2[:window + 1]).rjust(block_size, '%')\n",
        "    x = torch.tensor(encode(x))\n",
        "    y = torch.tensor(encode(y))\n",
        "    return x, y\n",
        "\n",
        "def get_batch(split):\n",
        "    data = train_data if split == 'train' else val_data\n",
        "    x = torch.zeros((batch_size, block_size), dtype=int)\n",
        "    y = torch.zeros((batch_size, block_size), dtype=int)\n",
        "    mask = torch.zeros((batch_size, block_size), dtype=torch.bool)\n",
        "\n",
        "\n",
        "    for i in range(batch_size):\n",
        "        xi, yi = get_context_examples(split)\n",
        "        x[i, :len(xi)] = xi  # Assign values up to the original length\n",
        "        y[i, :len(yi)] = yi  # The rest will be padded with 0s\n",
        "        mask[i, :len(xi)] = True  # Set True for actual data tokens\n",
        "        #x[i] = xi\n",
        "        #y[i] = yi\n",
        "\n",
        "    x, y, mask = x.to(device), y.to(device), mask.to(device)\n",
        "    return x, y, mask\n",
        "\n",
        "# batch = get_batch('train')\n",
        "# print(batch[0].shape)\n",
        "# print(batch[1].shape)"
      ],
      "metadata": {
        "id": "yzqUl6bKkUri"
      },
      "execution_count": 163,
      "outputs": []
    },
    {
      "cell_type": "code",
      "source": [
        "example = get_context_examples('train')\n",
        "print(decode(example[0].tolist()))\n",
        "print(decode(example[1].tolist()))"
      ],
      "metadata": {
        "colab": {
          "base_uri": "https://localhost:8080/"
        },
        "id": "wYs68YRxV79H",
        "outputId": "ce2883f0-657c-420a-8851-7ca528d83a3d"
      },
      "execution_count": 164,
      "outputs": [
        {
          "output_type": "stream",
          "name": "stdout",
          "text": [
            "harle#harles$infare#infare\n",
            "arle#harles$infare#infares\n"
          ]
        }
      ]
    },
    {
      "cell_type": "code",
      "source": [
        "@torch.no_grad()\n",
        "def estimate_loss():\n",
        "    out = {}\n",
        "    model.eval()\n",
        "    for split in ['train', 'val']:\n",
        "        losses = torch.zeros(eval_iters)\n",
        "        for k in range(eval_iters):\n",
        "            X, Y, mask = get_batch(split)\n",
        "            logits, loss = model(X, Y, mask)\n",
        "            losses[k] = loss.item()\n",
        "        out[split] = losses.mean()\n",
        "    model.train()\n",
        "    return out\n",
        "\n",
        "class Head(nn.Module):\n",
        "    \"\"\" one head of self-attention \"\"\"\n",
        "\n",
        "    def __init__(self, head_size):\n",
        "        super().__init__()\n",
        "        self.key = nn.Linear(n_embd, head_size, bias=False)\n",
        "        self.query = nn.Linear(n_embd, head_size, bias=False)\n",
        "        self.value = nn.Linear(n_embd, head_size, bias=False)\n",
        "        self.register_buffer('tril', torch.tril(torch.ones(block_size, block_size)))\n",
        "\n",
        "        self.dropout = nn.Dropout(dropout)\n",
        "\n",
        "    def forward(self, x, mask=None):\n",
        "        # input of size (batch, time-step, channels)\n",
        "        # output of size (batch, time-step, head size)\n",
        "        B,T,C = x.shape\n",
        "        k = self.key(x)   # (B,T,hs)\n",
        "        q = self.query(x) # (B,T,hs)\n",
        "        # compute attention scores (\"affinities\")\n",
        "        wei = q @ k.transpose(-2,-1) * k.shape[-1]**-0.5 # (B, T, hs) @ (B, hs, T) -> (B, T, T)\n",
        "        wei = wei.masked_fill(self.tril[:T, :T] == 0, float('-inf')) # (B, T, T)\n",
        "        if mask is not None:\n",
        "            # Apply the mask before the softmax\n",
        "            wei = wei.masked_fill(~mask[:, None, :], float('-inf'))\n",
        "\n",
        "        wei = F.softmax(wei, dim=-1) # (B, T, T)\n",
        "        wei = self.dropout(wei)\n",
        "        # perform the weighted aggregation of the values\n",
        "        v = self.value(x) # (B,T,hs)\n",
        "        out = wei @ v # (B, T, T) @ (B, T, hs) -> (B, T, hs)\n",
        "        return out\n",
        "\n",
        "class MultiHeadAttention(nn.Module):\n",
        "    \"\"\" multiple heads of self-attention in parallel \"\"\"\n",
        "\n",
        "    def __init__(self, num_heads, head_size):\n",
        "        super().__init__()\n",
        "        self.heads = nn.ModuleList([Head(head_size) for _ in range(num_heads)])\n",
        "        self.proj = nn.Linear(head_size * num_heads, n_embd)\n",
        "        self.dropout = nn.Dropout(dropout)\n",
        "\n",
        "    def forward(self, x, mask=None):\n",
        "        #out = torch.cat([h(x) for h in self.heads], dim=-1)\n",
        "        out = torch.cat([h(x, mask=mask) for h in self.heads], dim=-1)  # Pass mask\n",
        "\n",
        "        out = self.dropout(self.proj(out))\n",
        "        return out\n",
        "\n",
        "class FeedFoward(nn.Module):\n",
        "    \"\"\" a simple linear layer followed by a non-linearity \"\"\"\n",
        "\n",
        "    def __init__(self, n_embd):\n",
        "        super().__init__()\n",
        "        self.net = nn.Sequential(\n",
        "            nn.Linear(n_embd, 4 * n_embd),\n",
        "            nn.ReLU(),\n",
        "            nn.Linear(4 * n_embd, n_embd),\n",
        "            nn.Dropout(dropout),\n",
        "        )\n",
        "\n",
        "    def forward(self, x):\n",
        "        return self.net(x)\n",
        "\n",
        "class Block(nn.Module):\n",
        "    \"\"\" Transformer block: communication followed by computation \"\"\"\n",
        "\n",
        "    def __init__(self, n_embd, n_head):\n",
        "        # n_embd: embedding dimension, n_head: the number of heads we'd like\n",
        "        super().__init__()\n",
        "        head_size = n_embd // n_head\n",
        "        self.sa = MultiHeadAttention(n_head, head_size)\n",
        "        self.ffwd = FeedFoward(n_embd)\n",
        "        self.ln1 = nn.LayerNorm(n_embd)\n",
        "        self.ln2 = nn.LayerNorm(n_embd)\n",
        "\n",
        "    def forward(self, x, mask=None):\n",
        "        x = x + self.sa(self.ln1(x), mask=mask)\n",
        "        x = x + self.ffwd(self.ln2(x))\n",
        "        return x\n",
        "\n",
        "class GPTLanguageModel(nn.Module):\n",
        "\n",
        "    def __init__(self):\n",
        "        super().__init__()\n",
        "        # each token directly reads off the logits for the next token from a lookup table\n",
        "        self.token_embedding_table = nn.Embedding(vocab_size, n_embd)\n",
        "        self.position_embedding_table = nn.Embedding(block_size, n_embd)\n",
        "        self.blocks = nn.Sequential(*[Block(n_embd, n_head=n_head) for _ in range(n_layer)])\n",
        "        self.ln_f = nn.LayerNorm(n_embd) # final layer norm\n",
        "        self.lm_head = nn.Linear(n_embd, vocab_size)\n",
        "\n",
        "        # better init, not covered in the original GPT video, but important, will cover in followup video\n",
        "        self.apply(self._init_weights)\n",
        "\n",
        "    def _init_weights(self, module):\n",
        "        if isinstance(module, nn.Linear):\n",
        "            torch.nn.init.normal_(module.weight, mean=0.0, std=0.02)\n",
        "            if module.bias is not None:\n",
        "                torch.nn.init.zeros_(module.bias)\n",
        "        elif isinstance(module, nn.Embedding):\n",
        "            torch.nn.init.normal_(module.weight, mean=0.0, std=0.02)\n",
        "\n",
        "    def forward(self, idx, targets=None, mask=None):\n",
        "        B, T = idx.shape\n",
        "\n",
        "        # idx and targets are both (B,T) tensor of integers\n",
        "        tok_emb = self.token_embedding_table(idx) # (B,T,C)\n",
        "        pos_emb = self.position_embedding_table(torch.arange(T, device=device)) # (T,C)\n",
        "        x = tok_emb + pos_emb # (B,T,C)\n",
        "        for block in self.blocks:\n",
        "          x = block(x, mask=mask)\n",
        "\n",
        "        #x = self.blocks(x) # (B,T,C)\n",
        "        x = self.ln_f(x) # (B,T,C)\n",
        "        logits = self.lm_head(x) # (B,T,vocab_size)\n",
        "\n",
        "        if targets is None:\n",
        "            loss = None\n",
        "        else:\n",
        "            B, T, C = logits.shape\n",
        "            logits = logits.view(B*T, C)\n",
        "            targets = targets.view(B*T)\n",
        "            loss = F.cross_entropy(logits, targets)\n",
        "\n",
        "\n",
        "            # # Create a mask for padding tokens\n",
        "            # mask = (targets != stoi['%']).float() # 1 for non-padding, 0 for padding\n",
        "\n",
        "            # # Apply the mask to the loss calculation\n",
        "            # loss = F.cross_entropy(logits, targets, reduction='none') * mask\n",
        "            # loss = loss.sum() / mask.sum()  # Average over non-padding tokens\n",
        "\n",
        "        return logits, loss\n",
        "\n",
        "    def generate(self, idx, max_new_tokens):\n",
        "        # idx is (B, T) array of indices in the current context\n",
        "        for _ in range(max_new_tokens):\n",
        "            # crop idx to the last block_size tokens\n",
        "            idx_cond = idx[:, -block_size:]\n",
        "            # get the predictions\n",
        "            logits, loss = self(idx_cond)\n",
        "            # focus only on the last time step\n",
        "            logits = logits[:, -1, :] # becomes (B, C)\n",
        "            # apply softmax to get probabilities\n",
        "            probs = F.softmax(logits, dim=-1) # (B, C)\n",
        "            # sample from the distribution\n",
        "            idx_next = torch.multinomial(probs, num_samples=1) # (B, 1)\n",
        "            # append sampled index to the running sequence\n",
        "            idx = torch.cat((idx, idx_next), dim=1) # (B, T+1)\n",
        "        return idx\n",
        "\n",
        "    def evaluate(self, num_to_evaluate):\n",
        "        data = val_data\n",
        "        n = len(data)\n",
        "\n",
        "        correct = 0\n",
        "        total = 0\n",
        "        for _ in range(num_to_evaluate):\n",
        "            s1, p1 = data[np.random.randint(n)]\n",
        "            s2, p2 = data[np.random.randint(n)]\n",
        "            p2 += '@'\n",
        "\n",
        "            #idx = (s1 + '#' + p1 + '$' + s2 + '#').rjust(block_size, '%')\n",
        "            idx = s1 + '#' + p1 + '$' + s2 + '#'\n",
        "            context = idx[:]\n",
        "            idx = torch.tensor(encode(idx)).to(device).unsqueeze(0)\n",
        "            #print(idx)\n",
        "            for i in range(len(p2)):\n",
        "                # crop idx to the last block_size tokens\n",
        "                idx_cond = idx[:, -block_size:]\n",
        "                # get the predictions\n",
        "                logits, loss = self(idx_cond)\n",
        "                # focus only on the last time step\n",
        "                logits = logits[:, -1, :] # becomes (B, C)\n",
        "                # apply softmax to get probabilities\n",
        "                probs = F.softmax(logits, dim=-1) # (B, C)\n",
        "                #print(f\"Probs = {probs}\")\n",
        "                # sample from the distribution\n",
        "                idx_next = torch.multinomial(probs, num_samples=1) # (B, 1)\n",
        "                # append sampled index to the running sequence\n",
        "                idx = torch.cat((idx, idx_next), dim=1) # (B, T+1)\n",
        "                #print(idx)\n",
        "\n",
        "            predicted = decode(idx[0].tolist())[-len(p2):]\n",
        "\n",
        "            print(f\"Context: {context}, Prediction: {predicted}, Correct: {p2}\")\n",
        "            if predicted == p2:\n",
        "                correct += 1\n",
        "            total += 1\n",
        "\n",
        "        print(f\"Accuracy: {correct}/{total}\")"
      ],
      "metadata": {
        "id": "9OrQKulGWdBk"
      },
      "execution_count": 165,
      "outputs": []
    },
    {
      "cell_type": "code",
      "source": [
        "model = GPTLanguageModel()\n",
        "m = model.to(device)\n",
        "# print the number of parameters in the model\n",
        "print(sum(p.numel() for p in m.parameters())/1e6, 'M parameters')\n",
        "\n",
        "# create a PyTorch optimizer\n",
        "optimizer = torch.optim.AdamW(model.parameters(), lr=learning_rate)\n",
        "\n",
        "for iter in range(max_iters):\n",
        "\n",
        "    # every once in a while evaluate the loss on train and val sets\n",
        "    if iter % eval_interval == 0 or iter == max_iters - 1:\n",
        "        losses = estimate_loss()\n",
        "        print(f\"step {iter}: train loss {losses['train']:.4f}, val loss {losses['val']:.4f}\")\n",
        "\n",
        "    # sample a batch of data\n",
        "    xb, yb, mask = get_batch('train')\n",
        "\n",
        "    # evaluate the loss\n",
        "    logits, loss = model(xb, yb, mask)\n",
        "    optimizer.zero_grad(set_to_none=True)\n",
        "    loss.backward()\n",
        "    optimizer.step()\n",
        "\n",
        "# generate from the model\n",
        "print(m.evaluate(20))"
      ],
      "metadata": {
        "colab": {
          "base_uri": "https://localhost:8080/"
        },
        "collapsed": true,
        "id": "l7nrOz6GWiZL",
        "outputId": "a33b6d0b-c71f-4dc4-f869-f15f115d3aae"
      },
      "execution_count": 166,
      "outputs": [
        {
          "output_type": "stream",
          "name": "stdout",
          "text": [
            "10.713631 M parameters\n",
            "step 0: train loss 3.6182, val loss 3.6501\n",
            "step 500: train loss 0.2054, val loss 0.2504\n",
            "step 1000: train loss 0.1904, val loss 0.2368\n",
            "step 1500: train loss 0.1846, val loss 0.2353\n",
            "step 2000: train loss 0.1792, val loss 0.2450\n",
            "step 2500: train loss 0.1740, val loss 0.2458\n",
            "step 3000: train loss 0.1673, val loss 0.2506\n",
            "step 3500: train loss 0.1619, val loss 0.2518\n",
            "step 4000: train loss 0.1572, val loss 0.2591\n",
            "step 4500: train loss 0.1526, val loss 0.2671\n",
            "step 4999: train loss 0.1501, val loss 0.2675\n",
            "Context: zaa#zaas$wazzer#, Prediction: wazzers@, Correct: wazzers@\n",
            "Context: zaim#zaims$yowler#, Prediction: yowlers@, Correct: yowlers@\n",
            "Context: vamper#vampers$zine#, Prediction: zines@, Correct: zines@\n",
            "Context: wheal#wheals$urodid#, Prediction: urodids@, Correct: urodids@\n",
            "Context: witigo#witigos$voe#, Prediction: %%%%%, Correct: voes@\n",
            "Context: visage#visages$upshot#, Prediction: upshots@, Correct: upshots@\n",
            "Context: wadge#wadges$yamboo#, Prediction: yamboos@, Correct: yamboos@\n",
            "Context: weezel#weezels$weald#, Prediction: weaids@, Correct: wealds@\n",
            "Context: yale#yales$violar#, Prediction: violars@, Correct: violars@\n",
            "Context: wyke#wykes$vidiot#, Prediction: jidiots@, Correct: vidiots@\n",
            "Context: vassal#vassals$wapato#, Prediction: wapatos@, Correct: wapatos@\n",
            "Context: umiac#umiacs$verism#, Prediction: verisms@, Correct: verisms@\n",
            "Context: yuen#yuens$yaqona#, Prediction: yaqonas@, Correct: yaqonas@\n",
            "Context: yager#yagers$vizir#, Prediction: vizirs@, Correct: vizirs@\n",
            "Context: yampah#yampahs$tyer#, Prediction: tyers@, Correct: tyers@\n",
            "Context: windle#windles$vetch#, Prediction: vetches@, Correct: vetches@\n",
            "Context: viola#violas$turg#, Prediction: turgs@, Correct: turgs@\n",
            "Context: waucht#wauchts$wang#, Prediction: wangs@, Correct: wangs@\n",
            "Context: xu#xus$xerult#, Prediction: xerula@@, Correct: xerults@\n",
            "Context: yahoo#yahoos$vest#, Prediction: vests@, Correct: vests@\n",
            "Accuracy: 0/20\n",
            "None\n"
          ]
        }
      ]
    },
    {
      "cell_type": "code",
      "source": [
        "torch.save(model.state_dict(), 'model_weights.pth')\n"
      ],
      "metadata": {
        "id": "AYtXR9SZc8P_"
      },
      "execution_count": 168,
      "outputs": []
    },
    {
      "cell_type": "code",
      "source": [
        "model = GPTLanguageModel()  # Create a new model with the same architecture\n",
        "model.to(device) # move to device\n",
        "model.load_state_dict(torch.load('model_weights.pth'))\n",
        "print(m.evaluate(1))"
      ],
      "metadata": {
        "colab": {
          "base_uri": "https://localhost:8080/"
        },
        "id": "VTDz7C8VdJTJ",
        "outputId": "1d4b7992-3d91-47bd-f387-0ffbfebd1c04"
      },
      "execution_count": 170,
      "outputs": [
        {
          "output_type": "stream",
          "name": "stdout",
          "text": [
            "Context: wold#wolds$waving#, Prediction: wavings@, Correct: wavings@\n",
            "Accuracy: 0/1\n",
            "None\n"
          ]
        }
      ]
    }
  ]
}