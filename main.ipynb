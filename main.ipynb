{
  "nbformat": 4,
  "nbformat_minor": 0,
  "metadata": {
    "colab": {
      "provenance": [],
      "gpuType": "A100"
    },
    "kernelspec": {
      "name": "python3",
      "display_name": "Python 3"
    },
    "language_info": {
      "name": "python"
    },
    "accelerator": "GPU"
  },
  "cells": [
    {
      "cell_type": "code",
      "source": [
        "import torch\n",
        "import torch.nn as nn\n",
        "from torch.nn import functional as F\n",
        "import numpy as np"
      ],
      "metadata": {
        "id": "2XFSmd74WHbE"
      },
      "execution_count": 36,
      "outputs": []
    },
    {
      "cell_type": "code",
      "source": [
        "# hyperparameters\n",
        "batch_size = 64 # how many independent sequences will we process in parallel?\n",
        "block_size = 256 # what is the maximum context length for predictions?\n",
        "max_iters = 5000\n",
        "eval_interval = 500\n",
        "learning_rate = 3e-4\n",
        "device = 'cuda' if torch.cuda.is_available() else 'cpu'\n",
        "eval_iters = 200\n",
        "n_embd = 384\n",
        "n_head = 6\n",
        "n_layer = 6\n",
        "dropout = 0.2\n",
        "torch.manual_seed(1337)"
      ],
      "metadata": {
        "colab": {
          "base_uri": "https://localhost:8080/"
        },
        "id": "cwA39ZOpWI_j",
        "outputId": "6a24a555-a38c-4a97-ff9e-c63c18b88c75"
      },
      "execution_count": 37,
      "outputs": [
        {
          "output_type": "execute_result",
          "data": {
            "text/plain": [
              "<torch._C.Generator at 0x7927f42ab710>"
            ]
          },
          "metadata": {},
          "execution_count": 37
        }
      ]
    },
    {
      "cell_type": "code",
      "source": [
        "stoi = {\n",
        "    ' ': 0,\n",
        "    'a': 1,\n",
        "    'b': 2,\n",
        "    'c': 3,\n",
        "    'd': 4,\n",
        "    'e': 5,\n",
        "    'f': 6,\n",
        "    'g': 7,\n",
        "    'h': 8,\n",
        "    'i': 9,\n",
        "    'j': 10,\n",
        "    'k': 11,\n",
        "    'l': 12,\n",
        "    'm': 13,\n",
        "    'n': 14,\n",
        "    'o': 15,\n",
        "    'p': 16,\n",
        "    'q': 17,\n",
        "    'r': 18,\n",
        "    's': 19,\n",
        "    't': 20,\n",
        "    'u': 21,\n",
        "    'v': 22,\n",
        "    'w': 23,\n",
        "    'x': 24,\n",
        "    'y': 25,\n",
        "    'z': 26,\n",
        "    '#': 27,\n",
        "    '$': 28,\n",
        "    '@': 29,\n",
        "    '%': 30\n",
        "}\n",
        "# '# = is to'\n",
        "# '$ = as'\n",
        "# '@ = end token'\n",
        "# '% = padding at the start to make it block size length'\n",
        "vocab_size = len(stoi)\n",
        "\n",
        "itos = {v: k for k, v in stoi.items()}\n",
        "\n",
        "# def tokenize(text):\n",
        "#     return [CHAR_TO_TOKEN[c] for c in text]\n",
        "\n",
        "# def detokenize(tokens):\n",
        "#     return ''.join([TOKEN_TO_CHAR[t] for t in tokens])\n",
        "\n",
        "encode = lambda s: [stoi[c] for c in s] # encoder: take a string, output a list of integers\n",
        "decode = lambda l: ''.join([itos[i] for i in l]) # decoder: take a list of integers, output a string\n"
      ],
      "metadata": {
        "id": "EPXqCA2TnkYQ"
      },
      "execution_count": 38,
      "outputs": []
    },
    {
      "cell_type": "code",
      "source": [
        "word_pairs = []\n",
        "with open('nouns.csv', 'r') as f:\n",
        "    for line in f:\n",
        "        parts = line.strip().split(',')\n",
        "        if len(parts) >= 2:\n",
        "            singular = parts[0].strip()\n",
        "            plural = parts[1].strip()\n",
        "\n",
        "            if all(c in stoi for c in singular) and all(c in stoi for c in plural):\n",
        "                word_pairs.append((singular, plural))\n",
        "\n",
        "print(word_pairs[0])"
      ],
      "metadata": {
        "colab": {
          "base_uri": "https://localhost:8080/"
        },
        "id": "NtzUk7hcWyPI",
        "outputId": "a27ca7a1-9968-4dc6-d37b-7ee35be1b06e"
      },
      "execution_count": 39,
      "outputs": [
        {
          "output_type": "stream",
          "name": "stdout",
          "text": [
            "('aab', 'aabs')\n"
          ]
        }
      ]
    },
    {
      "cell_type": "code",
      "source": [
        "n = int(0.9*len(word_pairs)) # first 90% will be train, rest val\n",
        "train_data = word_pairs[:n]\n",
        "val_data = word_pairs[n:]"
      ],
      "metadata": {
        "id": "n6zCgneGgmFB"
      },
      "execution_count": 40,
      "outputs": []
    },
    {
      "cell_type": "code",
      "source": [
        "def get_batch(split):\n",
        "    data = train_data if split == 'train' else val_data\n",
        "    ix = torch.randint(len(data) - block_size, (batch_size,))\n",
        "    x = torch.zeros((batch_size, block_size), dtype=int)\n",
        "    y = torch.zeros((batch_size, block_size), dtype=int)\n",
        "\n",
        "    for i in range(batch_size):\n",
        "        n = len(data)\n",
        "        s1, p1 = data[np.random.randint(n)]\n",
        "        s2, p2 = data[np.random.randint(n)]\n",
        "        window = np.random.randint(len(p2))\n",
        "        p2 += '@'\n",
        "\n",
        "        '''\n",
        "        Data is of the form:\n",
        "        %%%% singular $ plural # singular $ part of a plural\n",
        "\n",
        "        We pad with %%% to keep the size correct\n",
        "\n",
        "        For example:\n",
        "        x = %%%%%%%fox$foxes#dog$do\n",
        "        y = %%%%%%fox$foxes#dog$dog\n",
        "        '''\n",
        "\n",
        "\n",
        "        xi = (s1 + '#' + p1 + '$' + s2 + '#' + p2[:window]).rjust(block_size, '%')\n",
        "        yi = (s1 + '#' + p1 + '$' + s2 + '#' + p2[:window + 1]).rjust(block_size, '%')\n",
        "        x[i] = torch.tensor(encode(xi))\n",
        "        y[i] = torch.tensor(encode(yi))\n",
        "\n",
        "    x, y = x.to(device), y.to(device)\n",
        "    return x, y\n",
        "\n",
        "# batch = get_batch('train')\n",
        "# print(batch[0].shape)\n",
        "# print(batch[1].shape)"
      ],
      "metadata": {
        "colab": {
          "base_uri": "https://localhost:8080/"
        },
        "id": "yzqUl6bKkUri",
        "outputId": "efac51bd-22be-4e2f-9434-afe50ddccc95"
      },
      "execution_count": 44,
      "outputs": [
        {
          "output_type": "stream",
          "name": "stdout",
          "text": [
            "torch.Size([64, 256])\n",
            "torch.Size([64, 256])\n"
          ]
        }
      ]
    },
    {
      "cell_type": "code",
      "source": [
        "@torch.no_grad()\n",
        "def estimate_loss():\n",
        "    out = {}\n",
        "    model.eval()\n",
        "    for split in ['train', 'val']:\n",
        "        losses = torch.zeros(eval_iters)\n",
        "        for k in range(eval_iters):\n",
        "            X, Y = get_batch(split)\n",
        "            logits, loss = model(X, Y)\n",
        "            losses[k] = loss.item()\n",
        "        out[split] = losses.mean()\n",
        "    model.train()\n",
        "    return out\n",
        "\n",
        "class Head(nn.Module):\n",
        "    \"\"\" one head of self-attention \"\"\"\n",
        "\n",
        "    def __init__(self, head_size):\n",
        "        super().__init__()\n",
        "        self.key = nn.Linear(n_embd, head_size, bias=False)\n",
        "        self.query = nn.Linear(n_embd, head_size, bias=False)\n",
        "        self.value = nn.Linear(n_embd, head_size, bias=False)\n",
        "        self.register_buffer('tril', torch.tril(torch.ones(block_size, block_size)))\n",
        "\n",
        "        self.dropout = nn.Dropout(dropout)\n",
        "\n",
        "    def forward(self, x):\n",
        "        # input of size (batch, time-step, channels)\n",
        "        # output of size (batch, time-step, head size)\n",
        "        B,T,C = x.shape\n",
        "        k = self.key(x)   # (B,T,hs)\n",
        "        q = self.query(x) # (B,T,hs)\n",
        "        # compute attention scores (\"affinities\")\n",
        "        wei = q @ k.transpose(-2,-1) * k.shape[-1]**-0.5 # (B, T, hs) @ (B, hs, T) -> (B, T, T)\n",
        "        wei = wei.masked_fill(self.tril[:T, :T] == 0, float('-inf')) # (B, T, T)\n",
        "        wei = F.softmax(wei, dim=-1) # (B, T, T)\n",
        "        wei = self.dropout(wei)\n",
        "        # perform the weighted aggregation of the values\n",
        "        v = self.value(x) # (B,T,hs)\n",
        "        out = wei @ v # (B, T, T) @ (B, T, hs) -> (B, T, hs)\n",
        "        return out\n",
        "\n",
        "class MultiHeadAttention(nn.Module):\n",
        "    \"\"\" multiple heads of self-attention in parallel \"\"\"\n",
        "\n",
        "    def __init__(self, num_heads, head_size):\n",
        "        super().__init__()\n",
        "        self.heads = nn.ModuleList([Head(head_size) for _ in range(num_heads)])\n",
        "        self.proj = nn.Linear(head_size * num_heads, n_embd)\n",
        "        self.dropout = nn.Dropout(dropout)\n",
        "\n",
        "    def forward(self, x):\n",
        "        out = torch.cat([h(x) for h in self.heads], dim=-1)\n",
        "        out = self.dropout(self.proj(out))\n",
        "        return out\n",
        "\n",
        "class FeedFoward(nn.Module):\n",
        "    \"\"\" a simple linear layer followed by a non-linearity \"\"\"\n",
        "\n",
        "    def __init__(self, n_embd):\n",
        "        super().__init__()\n",
        "        self.net = nn.Sequential(\n",
        "            nn.Linear(n_embd, 4 * n_embd),\n",
        "            nn.ReLU(),\n",
        "            nn.Linear(4 * n_embd, n_embd),\n",
        "            nn.Dropout(dropout),\n",
        "        )\n",
        "\n",
        "    def forward(self, x):\n",
        "        return self.net(x)\n",
        "\n",
        "class Block(nn.Module):\n",
        "    \"\"\" Transformer block: communication followed by computation \"\"\"\n",
        "\n",
        "    def __init__(self, n_embd, n_head):\n",
        "        # n_embd: embedding dimension, n_head: the number of heads we'd like\n",
        "        super().__init__()\n",
        "        head_size = n_embd // n_head\n",
        "        self.sa = MultiHeadAttention(n_head, head_size)\n",
        "        self.ffwd = FeedFoward(n_embd)\n",
        "        self.ln1 = nn.LayerNorm(n_embd)\n",
        "        self.ln2 = nn.LayerNorm(n_embd)\n",
        "\n",
        "    def forward(self, x):\n",
        "        x = x + self.sa(self.ln1(x))\n",
        "        x = x + self.ffwd(self.ln2(x))\n",
        "        return x\n",
        "\n",
        "class GPTLanguageModel(nn.Module):\n",
        "\n",
        "    def __init__(self):\n",
        "        super().__init__()\n",
        "        # each token directly reads off the logits for the next token from a lookup table\n",
        "        self.token_embedding_table = nn.Embedding(vocab_size, n_embd)\n",
        "        self.position_embedding_table = nn.Embedding(block_size, n_embd)\n",
        "        self.blocks = nn.Sequential(*[Block(n_embd, n_head=n_head) for _ in range(n_layer)])\n",
        "        self.ln_f = nn.LayerNorm(n_embd) # final layer norm\n",
        "        self.lm_head = nn.Linear(n_embd, vocab_size)\n",
        "\n",
        "        # better init, not covered in the original GPT video, but important, will cover in followup video\n",
        "        self.apply(self._init_weights)\n",
        "\n",
        "    def _init_weights(self, module):\n",
        "        if isinstance(module, nn.Linear):\n",
        "            torch.nn.init.normal_(module.weight, mean=0.0, std=0.02)\n",
        "            if module.bias is not None:\n",
        "                torch.nn.init.zeros_(module.bias)\n",
        "        elif isinstance(module, nn.Embedding):\n",
        "            torch.nn.init.normal_(module.weight, mean=0.0, std=0.02)\n",
        "\n",
        "    def forward(self, idx, targets=None):\n",
        "        B, T = idx.shape\n",
        "\n",
        "        # idx and targets are both (B,T) tensor of integers\n",
        "        tok_emb = self.token_embedding_table(idx) # (B,T,C)\n",
        "        pos_emb = self.position_embedding_table(torch.arange(T, device=device)) # (T,C)\n",
        "        x = tok_emb + pos_emb # (B,T,C)\n",
        "        x = self.blocks(x) # (B,T,C)\n",
        "        x = self.ln_f(x) # (B,T,C)\n",
        "        logits = self.lm_head(x) # (B,T,vocab_size)\n",
        "\n",
        "        if targets is None:\n",
        "            loss = None\n",
        "        else:\n",
        "            B, T, C = logits.shape\n",
        "            logits = logits.view(B*T, C)\n",
        "            targets = targets.view(B*T)\n",
        "            loss = F.cross_entropy(logits, targets)\n",
        "\n",
        "        return logits, loss\n",
        "\n",
        "    def generate(self, idx, max_new_tokens):\n",
        "        # idx is (B, T) array of indices in the current context\n",
        "        for _ in range(max_new_tokens):\n",
        "            # crop idx to the last block_size tokens\n",
        "            idx_cond = idx[:, -block_size:]\n",
        "            # get the predictions\n",
        "            logits, loss = self(idx_cond)\n",
        "            # focus only on the last time step\n",
        "            logits = logits[:, -1, :] # becomes (B, C)\n",
        "            # apply softmax to get probabilities\n",
        "            probs = F.softmax(logits, dim=-1) # (B, C)\n",
        "            # sample from the distribution\n",
        "            idx_next = torch.multinomial(probs, num_samples=1) # (B, 1)\n",
        "            # append sampled index to the running sequence\n",
        "            idx = torch.cat((idx, idx_next), dim=1) # (B, T+1)\n",
        "        return idx\n",
        "\n",
        "    def evaluate(model, word_pairs, stoi, itos, k=3, max_len=128):\n",
        "        model.eval()\n",
        "        correct = 0\n",
        "        total = 20\n",
        "        with torch.no_grad():\n",
        "            for _ in range(total):\n",
        "                context, target = create_context_examples(word_pairs, k=k)\n",
        "                input_ids = tokenize(context, stoi)\n",
        "                input_tensor = torch.tensor(input_ids + [0] * (max_len - len(input_ids)), dtype=torch.long)[:max_len].unsqueeze(0)\n",
        "\n",
        "                output_logits = model(input_tensor)\n",
        "                output_ids = output_logits.argmax(dim=-1)[0].tolist()\n",
        "\n",
        "                predicted = detokenize(output_ids[len(input_ids):], itos)\n",
        "                print(f\"{context}{predicted.strip()} (Expected: {target})\")\n",
        "                if predicted.strip().startswith(target):\n",
        "                    correct += 1\n",
        "\n",
        "        print(f\"Accuracy: {correct}/{total}\")\n",
        "        model.train()"
      ],
      "metadata": {
        "id": "9OrQKulGWdBk"
      },
      "execution_count": 45,
      "outputs": []
    },
    {
      "cell_type": "code",
      "source": [
        "model = GPTLanguageModel()\n",
        "m = model.to(device)\n",
        "# print the number of parameters in the model\n",
        "print(sum(p.numel() for p in m.parameters())/1e6, 'M parameters')\n",
        "\n",
        "# create a PyTorch optimizer\n",
        "optimizer = torch.optim.AdamW(model.parameters(), lr=learning_rate)\n",
        "\n",
        "for iter in range(max_iters):\n",
        "\n",
        "    # every once in a while evaluate the loss on train and val sets\n",
        "    if iter % eval_interval == 0 or iter == max_iters - 1:\n",
        "        losses = estimate_loss()\n",
        "        print(f\"step {iter}: train loss {losses['train']:.4f}, val loss {losses['val']:.4f}\")\n",
        "\n",
        "    # sample a batch of data\n",
        "    xb, yb = get_batch('train')\n",
        "\n",
        "    # evaluate the loss\n",
        "    logits, loss = model(xb, yb)\n",
        "    optimizer.zero_grad(set_to_none=True)\n",
        "    loss.backward()\n",
        "    optimizer.step()\n",
        "\n",
        "# generate from the model\n",
        "context = torch.zeros((1, 1), dtype=torch.long, device=device)\n",
        "print(decode(m.generate(context, max_new_tokens=500)[0].tolist()))\n",
        "#open('more.txt', 'w').write(decode(m.generate(context, max_new_tokens=10000)[0].tolist()))"
      ],
      "metadata": {
        "colab": {
          "base_uri": "https://localhost:8080/"
        },
        "id": "l7nrOz6GWiZL",
        "outputId": "9aeb7d72-95ca-46da-9a71-fbb7e776a1f2"
      },
      "execution_count": 46,
      "outputs": [
        {
          "output_type": "stream",
          "name": "stdout",
          "text": [
            "10.762783 M parameters\n",
            "step 0: train loss 3.3831, val loss 3.3779\n",
            "step 500: train loss 0.3910, val loss 0.4115\n",
            "step 1000: train loss 0.2230, val loss 0.2473\n",
            "step 1500: train loss 0.2174, val loss 0.2449\n",
            "step 2000: train loss 0.2050, val loss 0.2491\n",
            "step 2500: train loss 0.2007, val loss 0.2551\n",
            "step 3000: train loss 0.1918, val loss 0.2402\n",
            "step 3500: train loss 0.1888, val loss 0.2384\n",
            "step 4000: train loss 0.1844, val loss 0.2338\n",
            "step 4500: train loss 0.1814, val loss 0.2297\n",
            "step 4999: train loss 0.1787, val loss 0.2284\n",
            " %%%%%%%%%%%%%%%%%%%%%%%%%%%%%%%%%%%%%%%%%%%%%%%%%%%%%%%%%%%%%%%%%%%%%%%%%%%%%%%%%%%%%%%%%%%%%%%%%%%%%%%%%%%%%%%%%%%%%%%%%%%%%%%%%%%%%%%%%%%%%%%%%%%%%%%%%%%%%%%%%%%%%%%%%%%%%%%%%%%%%%%%%%%%%%%%%%%%%%%%%%%%%%%i%tholphome#iirholphomes$each grefloweel#each grefloweels$bosel#each grefloweelsels$green#goseacheelseelss oap#itelosess os$llevulettory#elecoe cerlist#eellies olders measet#erle veale menitar meneral signet#eea mencen ases$dosper#erane dospers$dede#elenten coeas$adora#eneis eases$ovvy#easems\n"
          ]
        }
      ]
    }
  ]
}